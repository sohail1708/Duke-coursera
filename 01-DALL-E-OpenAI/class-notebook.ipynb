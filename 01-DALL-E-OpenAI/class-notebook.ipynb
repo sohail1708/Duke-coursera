{
 "cells": [
  {
   "cell_type": "code",
   "execution_count": 18,
   "metadata": {},
   "outputs": [],
   "source": [
    "import os\n",
    "import openai"
   ]
  },
  {
   "cell_type": "code",
   "execution_count": 19,
   "metadata": {},
   "outputs": [],
   "source": [
    "api_key = os.getenv(\"OPENAI_API_KEY\")"
   ]
  },
  {
   "cell_type": "code",
   "execution_count": 20,
   "metadata": {},
   "outputs": [],
   "source": [
    "from openai import OpenAI\n",
    "client = OpenAI()"
   ]
  },
  {
   "cell_type": "code",
   "execution_count": 21,
   "metadata": {},
   "outputs": [],
   "source": [
    "#create shopping list and reciepe function\n",
    "\n",
    "def create_shopping_list(recipe):\n",
    "    prompt = f\"Create a shopping list based on the following recipe and goods that go well with it and cooking instructions: {(recipe)}\"\n",
    "\n",
    "    return prompt\n"
   ]
  },
  {
   "cell_type": "code",
   "execution_count": 22,
   "metadata": {},
   "outputs": [
    {
     "name": "stdout",
     "output_type": "stream",
     "text": [
      "Create a shopping list based on the following recipe and goods that go well with it and cooking instructions: Chipotle chicken and rice bowl\n"
     ]
    }
   ],
   "source": [
    "#function test\n",
    "\n",
    "recipe = create_shopping_list(\"Chipotle chicken and rice bowl\")\n",
    "\n",
    "print(recipe)"
   ]
  },
  {
   "cell_type": "code",
   "execution_count": 23,
   "metadata": {},
   "outputs": [
    {
     "name": "stdout",
     "output_type": "stream",
     "text": [
      "Shopping list:\n",
      "- Boneless, skinless chicken breasts\n",
      "- Chipotle peppers in adobo sauce\n",
      "- Dried oregano\n",
      "- Ground cumin\n",
      "- Garlic powder\n",
      "- Onion powder\n",
      "- Salt and pepper\n",
      "- Olive oil\n",
      "- Rice\n",
      "- Black beans\n",
      "- Bell peppers\n",
      "- Corn\n",
      "- Avocado\n",
      "- Lime\n",
      "- Cilantro\n",
      "- Sour cream or Greek yogurt\n",
      "- Optional toppings: shredded cheese, salsa, hot sauce\n",
      "\n",
      "Cooking instructions:\n",
      "1. In a small bowl, combine chipotle peppers, oregano, cumin, garlic powder, onion powder, salt, pepper, and olive oil to make a marinade.\n",
      "2. Cut chicken breasts into bite-sized pieces and toss in the marinade to coat. Let marinate for at least 30 minutes.\n",
      "3. Cook rice according to package instructions.\n",
      "4. Heat a large pan over medium heat and cook the marinated chicken until cooked through and slightly charred on the edges.\n",
      "5. In the same pan, add black beans, diced bell peppers, and corn. Cook until heated through.\n",
      "6. Serve the chipotle chicken over the rice and top with black bean and corn mixture.\n",
      "7. Add sliced avocado, a squeeze of lime juice, chopped cilantro, and a dollop of sour cream or Greek yogurt.\n",
      "8. Optional: top with shredded cheese, salsa, or hot sauce. Enjoy!\n"
     ]
    }
   ],
   "source": [
    "#asking open ai for the answer\n",
    "\n",
    "completion = client.chat.completions.create(\n",
    "    model=\"gpt-3.5-turbo\",\n",
    "    store=True,\n",
    "    messages=[\n",
    "        {\"role\": \"user\", \n",
    "         \"content\": recipe}\n",
    "    ]\n",
    ")\n",
    "\n",
    "print(completion.choices[0].message.content)"
   ]
  },
  {
   "cell_type": "code",
   "execution_count": 24,
   "metadata": {},
   "outputs": [],
   "source": [
    "import re\n",
    "\n",
    "text = completion.choices[0].message.content\n",
    "\n",
    "# Regex pattern to match the shopping list items\n",
    "pattern = re.compile(r\"- (.+)\")\n",
    "\n",
    "# Find all matches and store in a list\n",
    "shoping_list = pattern.findall(text)\n",
    "\n"
   ]
  },
  {
   "cell_type": "code",
   "execution_count": 25,
   "metadata": {},
   "outputs": [
    {
     "name": "stdout",
     "output_type": "stream",
     "text": [
      "https://oaidalleapiprodscus.blob.core.windows.net/private/org-bDcr9bQssllittdNFScDw4We/user-zzW4cECN7eZ2myN3qmoCF0Go/img-7F1yUB0XCzURASm4nSkLK37Q.png?st=2025-02-12T23%3A25%3A50Z&se=2025-02-13T01%3A25%3A50Z&sp=r&sv=2024-08-04&sr=b&rscd=inline&rsct=image/png&skoid=d505667d-d6c1-4a0a-bac7-5c84a87759f8&sktid=a48cca56-e6da-484e-a814-9c849652bcb3&skt=2025-02-12T20%3A07%3A36Z&ske=2025-02-13T20%3A07%3A36Z&sks=b&skv=2024-08-04&sig=pJ/jcdIyjWaosyIH%2BXGJDL/S55cPVdE3aGny8YzjScM%3D\n"
     ]
    }
   ],
   "source": [
    "#generate image using DALL-E\n",
    "image_response = client.images.generate(\n",
    "    model = \"dall-e-3\",\n",
    "    prompt= shoping_list[0],\n",
    "    size = \"1024x1024\",\n",
    "    quality=\"standard\",\n",
    "    n = 1\n",
    ")\n",
    "\n",
    "image_url = image_response.data[0].url\n",
    "print(image_url)"
   ]
  },
  {
   "cell_type": "code",
   "execution_count": null,
   "metadata": {},
   "outputs": [],
   "source": []
  }
 ],
 "metadata": {
  "kernelspec": {
   "display_name": "Python 3",
   "language": "python",
   "name": "python3"
  },
  "language_info": {
   "codemirror_mode": {
    "name": "ipython",
    "version": 3
   },
   "file_extension": ".py",
   "mimetype": "text/x-python",
   "name": "python",
   "nbconvert_exporter": "python",
   "pygments_lexer": "ipython3",
   "version": "3.12.1"
  }
 },
 "nbformat": 4,
 "nbformat_minor": 2
}
